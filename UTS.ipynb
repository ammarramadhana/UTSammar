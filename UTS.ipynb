{
 "cells": [
  {
   "cell_type": "code",
   "execution_count": 36,
   "id": "11637a7b-cba9-4135-8674-655d32f29a59",
   "metadata": {},
   "outputs": [],
   "source": [
    "# Nama : Ammar Ramadhan\n",
    "# NIM  : 221011402334\n",
    "# Kelas : 05 TPLM 006\n",
    "# UTS : Kecerdasan Buatan\n",
    "# Data\n",
    "\n",
    "company_detail_list = [\n",
    "      {\n",
    "          'name': 'Company 1',\n",
    "          'domain': 'Retail',\n",
    "          'country': 'United States'\n",
    "      },\n",
    "      {\n",
    "          'name': 'Company 2',\n",
    "          'domain': 'Technology',\n",
    "          'country': 'United Kingdom'\n",
    "      },\n",
    "      {\n",
    "          'name': 'Company 3',\n",
    "          'domain': 'Healthcare',\n",
    "          'country': 'United States'\n",
    "      }\n",
    "  ]\n",
    "\n",
    "employee_detail_list = [\n",
    "     {\n",
    "          'name': 'EMP-0001',\n",
    "          'first_name': 'John',\n",
    "          'last_name': 'Doe',\n",
    "          'full_name': 'John Doe',\n",
    "          'company': 'Company 1',\n",
    "          'nationality': 'Australia'\n",
    "      },\n",
    "      {\n",
    "          'name': 'EMP-0002',\n",
    "          'first_name': 'Tom',\n",
    "          'last_name': 'Smith',\n",
    "          'full_name': 'Tom Smith',\n",
    "          'company': 'Company 2',\n",
    "          'nationality': 'United States'\n",
    "      },\n",
    "      {\n",
    "          'name': 'EMP-0003',\n",
    "          'first_name': 'Andrew',\n",
    "          'last_name': 'Sebastian',\n",
    "          'full_name': 'Andrew Sebastian',\n",
    "          'company': 'Company 3',\n",
    "          'nationality': 'United States'\n",
    "      },\n",
    "      {\n",
    "          'name': 'EMP-0005',\n",
    "          'first_name': 'Ying Han',\n",
    "          'last_name': 'Tan',\n",
    "          'full_name': 'Ying Han Tan',\n",
    "          'company': 'Company 1',\n",
    "          'nationality': 'Australia'\n",
    "      },\n",
    "      {\n",
    "          'name': 'EMP-0015',\n",
    "          'first_name': 'Kenneth',\n",
    "          'last_name': 'Ng',\n",
    "          'full_name': 'Kenneth Ng',\n",
    "          'company': 'Company 3',\n",
    "          'nationality': 'United States'\n",
    "      },\n",
    "      {\n",
    "          'name': 'EMP-0018',\n",
    "          'first_name': 'Rubby',\n",
    "          'last_name': 'Lee',\n",
    "          'full_name': 'Rubby Lee',\n",
    "          'company': 'Company 2',\n",
    "          'nationality': 'Hong Kong'\n",
    "      },\n",
    "     {\n",
    "          'name': 'EMP-0017',\n",
    "          'first_name': 'Robert',\n",
    "          'last_name': 'White',\n",
    "          'full_name': 'Robert White',\n",
    "          'company': 'Company 1',\n",
    "          'nationality': 'United Kingdom'\n",
    "      }\n",
    "  ]"
   ]
  },
  {
   "cell_type": "code",
   "execution_count": 31,
   "id": "e3006d10-1bc4-422c-8d8c-d58295a2c8d1",
   "metadata": {},
   "outputs": [
    {
     "data": {
      "text/plain": [
       "[{'name': 'Company 3'}, {'name': 'Company 2'}, {'name': 'Company 1'}]"
      ]
     },
     "execution_count": 31,
     "metadata": {},
     "output_type": "execute_result"
    }
   ],
   "source": [
    "#NO 1\n",
    "# Mengurutkan daftar perusahaan berdasarkan nama secara terbalik\n",
    "sorted_companies = sorted(\n",
    "    [{'name': company['name']} for company in company_detail_list],\n",
    "    key=lambda x: x['name'],\n",
    "    reverse=True\n",
    ")\n",
    "sorted_companies\n"
   ]
  },
  {
   "cell_type": "code",
   "execution_count": 32,
   "id": "0d3e4df7-bd8a-4220-bd04-7bfbd5d0de0f",
   "metadata": {},
   "outputs": [
    {
     "name": "stdout",
     "output_type": "stream",
     "text": [
      "Company 1: Retail (United States)\n",
      "Company 2: Technology (United Kingdom)\n",
      "Company 3: Healthcare (United States)\n"
     ]
    }
   ],
   "source": [
    "# NO 2\n",
    "# Mencetak bidang usaha dan negara asal setiap perusahaan\n",
    "for company in company_detail_list:\n",
    "    print(f\"{company['name']}: {company['domain']} ({company['country']})\")"
   ]
  },
  {
   "cell_type": "code",
   "execution_count": 33,
   "id": "f7bb7df5-2d0f-473b-b6cd-4f055a5ec271",
   "metadata": {},
   "outputs": [
    {
     "data": {
      "text/plain": [
       "{'Retail': ['John Doe', 'Ying Han Tan', 'Robert White'],\n",
       " 'Technology': ['Tom Smith', 'Rubby Lee'],\n",
       " 'Healthcare': ['Andrew Sebastian', 'Kenneth Ng']}"
      ]
     },
     "execution_count": 33,
     "metadata": {},
     "output_type": "execute_result"
    }
   ],
   "source": [
    "# NO 3\n",
    "from collections import defaultdict\n",
    "\n",
    "# Membuat peta yang menghubungkan nama perusahaan dengan domain\n",
    "domain_mapping = {company['name']: company['domain'] for company in company_detail_list}\n",
    "\n",
    "# Mengelompokkan karyawan berdasarkan domain\n",
    "employees_by_domain = defaultdict(list)\n",
    "for employee in employee_detail_list:\n",
    "    domain = domain_mapping.get(employee['company'])\n",
    "    if domain:  # Memastikan perusahaan memiliki domain\n",
    "        employees_by_domain[domain].append(employee['full_name'])\n",
    "\n",
    "# Mengonversi defaultdict ke dictionary biasa untuk hasil akhir\n",
    "employees_by_domain = dict(employees_by_domain)\n",
    "employees_by_domain\n"
   ]
  },
  {
   "cell_type": "code",
   "execution_count": 34,
   "id": "e72a3167-0e74-40b3-bf53-e6b130dd2a9d",
   "metadata": {},
   "outputs": [
    {
     "data": {
      "text/plain": [
       "[{'full_name': 'John Doe', 'company': 'Company 1', 'country': 'United States'},\n",
       " {'full_name': 'Tom Smith',\n",
       "  'company': 'Company 2',\n",
       "  'country': 'United Kingdom'},\n",
       " {'full_name': 'Andrew Sebastian',\n",
       "  'company': 'Company 3',\n",
       "  'country': 'United States'},\n",
       " {'full_name': 'Ying Han Tan',\n",
       "  'company': 'Company 1',\n",
       "  'country': 'United States'},\n",
       " {'full_name': 'Kenneth Ng',\n",
       "  'company': 'Company 3',\n",
       "  'country': 'United States'},\n",
       " {'full_name': 'Rubby Lee',\n",
       "  'company': 'Company 2',\n",
       "  'country': 'United Kingdom'},\n",
       " {'full_name': 'Robert White',\n",
       "  'company': 'Company 1',\n",
       "  'country': 'United States'}]"
      ]
     },
     "execution_count": 34,
     "metadata": {},
     "output_type": "execute_result"
    }
   ],
   "source": [
    "# NO 4\n",
    "def employees_with_company_country():\n",
    "    # Membuat peta perusahaan dengan negara asalnya\n",
    "    country_mapping = {company['name']: company['country'] for company in company_detail_list}\n",
    "    \n",
    "    # Membuat daftar karyawan dengan negara asal perusahaan\n",
    "    result = [\n",
    "        {\n",
    "            \"full_name\": employee['full_name'],\n",
    "            \"company\": employee['company'],\n",
    "            \"country\": country_mapping.get(employee['company'], \"Unknown\")\n",
    "        }\n",
    "        for employee in employee_detail_list\n",
    "    ]\n",
    "    return result\n",
    "\n",
    "employees_with_company_country()\n"
   ]
  },
  {
   "cell_type": "code",
   "execution_count": 35,
   "id": "519fbfa7-c5c2-4490-852b-ebb539ab4fbf",
   "metadata": {},
   "outputs": [
    {
     "data": {
      "text/plain": [
       "[{'company': 'Company 1',\n",
       "  'employee_nationality': {'Australia': 2, 'United Kingdom': 1}},\n",
       " {'company': 'Company 2',\n",
       "  'employee_nationality': {'United States': 1, 'Hong Kong': 1}},\n",
       " {'company': 'Company 3', 'employee_nationality': {'United States': 2}}]"
      ]
     },
     "execution_count": 35,
     "metadata": {},
     "output_type": "execute_result"
    }
   ],
   "source": [
    "# NO 5\n",
    "def company_nationality_counts():\n",
    "    # Membuat defaultdict untuk menghitung jumlah kebangsaan karyawan di setiap perusahaan\n",
    "    nationality_counts = defaultdict(lambda: defaultdict(int))\n",
    "\n",
    "    for employee in employee_detail_list:\n",
    "        nationality_counts[employee['company']][employee['nationality']] += 1\n",
    "\n",
    "    # Mengonversi hasil ke dalam format yang diharapkan\n",
    "    result = [\n",
    "        {\n",
    "            \"company\": company['name'],\n",
    "            \"employee_nationality\": dict(nationality_counts[company['name']])\n",
    "        }\n",
    "        for company in company_detail_list\n",
    "    ]\n",
    "    return result\n",
    "\n",
    "company_nationality_counts()\n"
   ]
  },
  {
   "cell_type": "code",
   "execution_count": null,
   "id": "2c62f32e-654e-4f32-91b2-e3f5b3869d39",
   "metadata": {},
   "outputs": [],
   "source": []
  }
 ],
 "metadata": {
  "kernelspec": {
   "display_name": "Python 3 (ipykernel)",
   "language": "python",
   "name": "python3"
  },
  "language_info": {
   "codemirror_mode": {
    "name": "ipython",
    "version": 3
   },
   "file_extension": ".py",
   "mimetype": "text/x-python",
   "name": "python",
   "nbconvert_exporter": "python",
   "pygments_lexer": "ipython3",
   "version": "3.12.6"
  }
 },
 "nbformat": 4,
 "nbformat_minor": 5
}
